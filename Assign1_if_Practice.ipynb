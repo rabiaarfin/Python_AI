{
 "cells": [
  {
   "cell_type": "markdown",
   "metadata": {},
   "source": [
    "# Temperature Converter:\n",
    "\n",
    "* Write a program that takes a temperature in Celsius as input and converts it to Fahrenheit. Use conditions to categorize the temperature as \"Cold,\" \"Warm,\" or \"Hot.\""
   ]
  },
  {
   "cell_type": "code",
   "execution_count": 9,
   "metadata": {},
   "outputs": [
    {
     "name": "stdout",
     "output_type": "stream",
     "text": [
      "Farhenheit is: 12011.0\n",
      "Weather is Hot\n"
     ]
    }
   ],
   "source": [
    "# Get input in Celcius\n",
    "Cel=int(input(\"Enter the Temperature in Celcius:\"))\n",
    "# Convert Celcius to Farhenheit\n",
    "Farhenheit=(Cel*9/5)+32\n",
    "print(\"Farhenheit is: \"+str(Farhenheit))\n",
    "#Categorize if the weather is Cold, Warm or Hot\n",
    "if Farhenheit<30:\n",
    "    print(\"Weather is Cold\")\n",
    "elif Farhenheit>=30 and Farhenheit<=75:\n",
    "        print(\"Weather is Warm\")\n",
    "else:\n",
    "        print(\"Weather is Hot\")\n"
   ]
  },
  {
   "cell_type": "markdown",
   "metadata": {},
   "source": [
    "# Number Sign Checker:\n",
    "\n",
    "* Create a program that takes a number as input and checks if it is positive, negative, or zero. Print the appropriate message based on the input.\n",
    "Even or Odd:"
   ]
  },
  {
   "cell_type": "code",
   "execution_count": null,
   "metadata": {},
   "outputs": [],
   "source": [
    "# Take input of the number\n",
    "Number=int(input(\"Enter Number:\"))\n",
    "# Validate if number id positive, Negative or Zero\n",
    "if Number < 0:\n",
    "    print(\"Number is negative\")\n",
    "elif Number >0:\n",
    "    print(\"Number is Positive\")\n",
    "else:\n",
    "    print(\"Number is zero\")\n",
    "\n",
    "# Print if number is even or odd\n",
    "if Number%2==0:\n",
    "    print(\"Number is even\")\n",
    "else:\n",
    "    print(\"Number is odd\")"
   ]
  },
  {
   "cell_type": "markdown",
   "metadata": {},
   "source": [
    "* Password Strength Checker:\n",
    "\n",
    "* Write a program that evaluates the strength of a password based on length, use of uppercase letters, lowercase letters, numbers, and special characters. Classify the password as Weak, Medium, or Strong."
   ]
  },
  {
   "cell_type": "code",
   "execution_count": null,
   "metadata": {},
   "outputs": [],
   "source": [
    "import re\n",
    "Password=input(\"Enter your pasword\")\n",
    "Pattern=\"[A-Za-z0-9]+[!|@|#|$|%|^|&|*|(|)]\"\n",
    "Pattern2=\"[\\d]+[!|@|#|$|%|^|&|*|(|)]\"\n",
    "if len(Password) >= 8 and len(Password)<= 12:\n",
    "    print(\"length check\")\n",
    "    if re.search(Pattern,Password):\n",
    "        print(\"Password is strong\")\n",
    "    elif (Pattern2,Password):\n",
    "        print(\"password medium\") \n",
    "else:\n",
    "    print(\"Weak password\")   \n"
   ]
  },
  {
   "cell_type": "markdown",
   "metadata": {},
   "source": [
    "* Q1-Print the given string in the format Data-Science-mentor-program-by-\"Faizan\""
   ]
  },
  {
   "cell_type": "code",
   "execution_count": null,
   "metadata": {},
   "outputs": [],
   "source": [
    "# Get Input\n",
    "InputString1=input(\"Please enter the Strings 1:\")\n",
    "InputString2=input(\"Please enter the Strings 2:\")\n",
    "InputString3=input(\"Please enter the Strings 3:\")\n",
    "InputString4=input(\"Please enter the Strings 4:\")\n",
    "InputString5=input(\"Please enter the Strings 5:\")\n",
    "InputString6=input(\"Please enter the Strings 6:\")\n",
    "#Print the formated strings\n",
    "print(InputString1,InputString2,InputString3,InputString4,InputString5,sep='-',end='-\"'+InputString6+'\"')"
   ]
  },
  {
   "cell_type": "markdown",
   "metadata": {},
   "source": [
    "* Q2 Concvert celcius to Farenheit"
   ]
  },
  {
   "cell_type": "code",
   "execution_count": null,
   "metadata": {},
   "outputs": [],
   "source": [
    "# Get input in Celcius\n",
    "Cel=int(input(\"Enter the Temperature in Celcius:\"))\n",
    "# Convert Celcius to Farhenheit\n",
    "Farhenheit=(Cel*9/5)+32\n",
    "print(\"Farhenheit is: \"+str(Farhenheit))\n",
    "#Categorize if the weather is Cold, Warm or Hot\n",
    "if Farhenheit<30:\n",
    "    print(\"Weather is Cold\")\n",
    "elif Farhenheit>=30 and Farhenheit<=75:\n",
    "        print(\"Weather is Warm\")\n",
    "else:\n",
    "        print(\"Weather is Hot\")"
   ]
  },
  {
   "cell_type": "markdown",
   "metadata": {},
   "source": [
    "* Q3 Take two number input from user. Write a program to Swap the numbers without the use of any special python syntax"
   ]
  },
  {
   "cell_type": "code",
   "execution_count": null,
   "metadata": {},
   "outputs": [],
   "source": [
    "# Take input for two numbers\n",
    "Num1=int(input(\"Enter first number\"))\n",
    "Num2=int(input(\"Enter second number\"))\n",
    "#Print Numbers before Swapping\n",
    "print(\"Numbers before Swaping Num1=\"+str(Num1)+\" Num2=\"+str(Num2))\n",
    "#Swap two numbers\n",
    "ContainerNumber=Num1\n",
    "Num1=Num2\n",
    "Num2=ContainerNumber\n",
    "print(\"Numbers after  Swaping Num1=\"+str(Num1)+\" Num2=\"+str(Num2))"
   ]
  },
  {
   "cell_type": "markdown",
   "metadata": {},
   "source": [
    "* Q4 Write a program to find euclidean distance between two coordinates. Take both coordinates from the user as input"
   ]
  },
  {
   "cell_type": "code",
   "execution_count": null,
   "metadata": {},
   "outputs": [],
   "source": [
    "# import math liberary\n",
    "import math\n",
    "# Take two coordinates inputs from user\n",
    "x1,x2=int(input(\"Enter x1\")),int(input(\"Enter x2\"))\n",
    "y1,y2=int(input(\"Enter y1\")),int(input(\"Enter y2\"))\n",
    "# Calculate euclidean distance- d = √[(x2 – x1)2 + (y2 – y1)2].\n",
    "d=math.sqrt((x2-x1)**2+(y2-y1)**2)\n",
    "# Print euclidean distance\n",
    "print(\"Print Euclidean Distance=\"+str(d))"
   ]
  },
  {
   "cell_type": "markdown",
   "metadata": {},
   "source": [
    "* Q5 Write a program to find the simple intrest when the value of principal, rate of intrest and time period is provided by user."
   ]
  },
  {
   "cell_type": "code",
   "execution_count": null,
   "metadata": {},
   "outputs": [],
   "source": [
    "\n",
    "# Get Principal, Rate of intrest, and time period from user\n",
    "Principal=int(input(\" Enter principal amount:\"))\n",
    "Intrest=float(input(\" Enter rate of Intrest:\"))\n",
    "Intrest=Intrest/100\n",
    "Timeperiod=int(input(\" Enter rate of Intrest:\"))\n",
    "#calculate simple intrest \n",
    "#S.I calculate Formula, S.I=PXRXT\n",
    "SimpleIntrest=Principal*Intrest*Timeperiod\n",
    "# print simple intrest\n",
    "print(\"Simple Intrest is: \"+str(round(SimpleIntrest,2)))"
   ]
  },
  {
   "cell_type": "markdown",
   "metadata": {},
   "source": [
    "* Write a program to give the number of dog and chicken when user give the input of total heads and chicken\n",
    "* For example head ->4 legs ->12\n",
    "* output 2 chicken 2 dogs"
   ]
  },
  {
   "cell_type": "markdown",
   "metadata": {},
   "source": [
    "* Write a program to find the sum of squares of firat n natural numbers where n will be provided by user."
   ]
  },
  {
   "cell_type": "code",
   "execution_count": 70,
   "metadata": {},
   "outputs": [
    {
     "name": "stdout",
     "output_type": "stream",
     "text": [
      "Dogs= 3.0\n",
      "Hens= 2.0\n"
     ]
    }
   ],
   "source": [
    "# Get head and legs from user based on formula Animal=4(Dogs)+2(Hens)\n",
    "Head=int(input(\"Enter Head:\"))\n",
    "Legs=int(input(\"Enter Legs:\"))\n",
    "#Each animal has one head and atleast 2 legs. Get those two legs by multiplying by heads.\n",
    "Forelegs=Head*2\n",
    "# find bag legs \n",
    "Backleg=Legs-Forelegs \n",
    "# Only dogs will have back 2 legs so devide back legs by 2 to find number of dogs\n",
    "Dogs=Backleg/2\n",
    "print(\"Dogs= \"+str(Dogs))\n",
    "# Each animal has one head. Sunbtract Dogs from heads to find hens\n",
    "Hen=Head-Dogs\n",
    "print(\"Hens= \"+str(Hen))\n",
    "\n",
    "\n",
    "    \n"
   ]
  },
  {
   "cell_type": "markdown",
   "metadata": {},
   "source": [
    "* Write a program to find the sum of square of first n natural number where n will be provided by user."
   ]
  },
  {
   "cell_type": "code",
   "execution_count": 64,
   "metadata": {},
   "outputs": [
    {
     "name": "stdout",
     "output_type": "stream",
     "text": [
      "0\n",
      "FinalNumber0\n",
      "1\n",
      "FinalNumber1\n",
      "4\n",
      "FinalNumber5\n",
      "9\n",
      "FinalNumber14\n",
      "16\n",
      "FinalNumber30\n",
      "25\n",
      "FinalNumber55\n",
      "55\n"
     ]
    }
   ],
   "source": [
    "# Get input\n",
    "Number=int(input(\"Enter Number:\"))\n",
    "# set number range\n",
    "Num=1\n",
    "FinalNumber=0\n",
    "# trate throgh number, find squre \n",
    "for Num in range(Number+1):\n",
    "    Num=Num**2\n",
    "    print(Num)\n",
    "    \n",
    "#sum squre of number\n",
    "    FinalNumber=FinalNumber+Num\n",
    "    print(\"FinalNumber\"+str(FinalNumber))\n",
    "\n",
    "print(FinalNumber)"
   ]
  },
  {
   "cell_type": "code",
   "execution_count": null,
   "metadata": {},
   "outputs": [],
   "source": []
  }
 ],
 "metadata": {
  "kernelspec": {
   "display_name": "prac_python",
   "language": "python",
   "name": "python3"
  },
  "language_info": {
   "codemirror_mode": {
    "name": "ipython",
    "version": 3
   },
   "file_extension": ".py",
   "mimetype": "text/x-python",
   "name": "python",
   "nbconvert_exporter": "python",
   "pygments_lexer": "ipython3",
   "version": "3.12.7"
  }
 },
 "nbformat": 4,
 "nbformat_minor": 2
}
